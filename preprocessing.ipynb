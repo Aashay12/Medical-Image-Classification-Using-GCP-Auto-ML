{
 "cells": [
  {
   "cell_type": "markdown",
   "metadata": {},
   "source": [
    "# Preparing the Dataset for Modeling"
   ]
  },
  {
   "cell_type": "code",
   "execution_count": 51,
   "metadata": {},
   "outputs": [],
   "source": [
    "import os\n",
    "import numpy as np\n",
    "import pandas as pd\n",
    "from google.cloud import storage"
   ]
  },
  {
   "cell_type": "code",
   "execution_count": 52,
   "metadata": {},
   "outputs": [],
   "source": [
    "# Instantiates a client\n",
    "storage_client = storage.Client()"
   ]
  },
  {
   "cell_type": "code",
   "execution_count": 53,
   "metadata": {},
   "outputs": [],
   "source": [
    "# Define bucket name: change this to your own\n",
    "bucket_name = 'optimum-vine-297907-ashay'"
   ]
  },
  {
   "cell_type": "code",
   "execution_count": 54,
   "metadata": {},
   "outputs": [],
   "source": [
    "# Get GCS bucket\n",
    "bucket = storage_client.get_bucket(bucket_name)"
   ]
  },
  {
   "cell_type": "code",
   "execution_count": 55,
   "metadata": {},
   "outputs": [],
   "source": [
    "# Retrieve blobs in the train dataset\n",
    "blobs = bucket.list_blobs(prefix='chest_xray/chest_xray/train/')"
   ]
  },
  {
   "cell_type": "code",
   "execution_count": 56,
   "metadata": {},
   "outputs": [],
   "source": [
    "# Retrieve list of blobs\n",
    "blob_list = []\n",
    "for blob in blobs:\n",
    "    blob_list.append(blob.name)"
   ]
  },
  {
   "cell_type": "code",
   "execution_count": 57,
   "metadata": {},
   "outputs": [
    {
     "data": {
      "text/plain": [
       "5219"
      ]
     },
     "execution_count": 57,
     "metadata": {},
     "output_type": "execute_result"
    }
   ],
   "source": [
    "len(blob_list)"
   ]
  },
  {
   "cell_type": "code",
   "execution_count": 58,
   "metadata": {},
   "outputs": [
    {
     "name": "stdout",
     "output_type": "stream",
     "text": [
      "chest_xray/chest_xray/train/.DS_Store\n",
      "chest_xray/chest_xray/train/NORMAL/.DS_Store\n"
     ]
    }
   ],
   "source": [
    "print(blob_list[0])\n",
    "print(blob_list[1])"
   ]
  },
  {
   "cell_type": "code",
   "execution_count": 59,
   "metadata": {},
   "outputs": [],
   "source": [
    "# Remove .DS_Store from list created by the datasource system\n",
    "# We don't mind doing this O(n) operation because the list size is manageable.\n",
    "# For larger datasets, it may be better to simply delete this file from Google Cloud Storage.\n",
    "\n",
    "# Append the bucket_prefix to the object file path\n",
    "\n",
    "i, length = 0, len(blob_list)\n",
    "bucket_prefix = 'gs://optimum-vine-297907-ashay/'\n",
    "data = []\n",
    "for blob in blob_list:\n",
    "    if '.DS_Store' not in blob:\n",
    "        entry = [''.join([bucket_prefix, blob]), blob.split('/')[3]]\n",
    "        data.append(entry)"
   ]
  },
  {
   "cell_type": "code",
   "execution_count": 60,
   "metadata": {},
   "outputs": [
    {
     "name": "stdout",
     "output_type": "stream",
     "text": [
      "['gs://optimum-vine-297907-ashay/chest_xray/chest_xray/train/NORMAL/IM-0115-0001.jpeg', 'NORMAL']\n",
      "['gs://optimum-vine-297907-ashay/chest_xray/chest_xray/train/NORMAL/IM-0117-0001.jpeg', 'NORMAL']\n"
     ]
    }
   ],
   "source": [
    "print(data[0])\n",
    "print(data[1])"
   ]
  },
  {
   "cell_type": "code",
   "execution_count": 61,
   "metadata": {},
   "outputs": [],
   "source": [
    "# convert to Pandas DataFrame\n",
    "data_pd = pd.DataFrame(np.array(data))"
   ]
  },
  {
   "cell_type": "code",
   "execution_count": 62,
   "metadata": {},
   "outputs": [],
   "source": [
    "data_pd.to_csv(\"data.csv\", header=None, index=None)"
   ]
  },
  {
   "cell_type": "code",
   "execution_count": 63,
   "metadata": {},
   "outputs": [],
   "source": [
    "# Upload data.csv to Google Cloud Storage\n",
    "output_blob = bucket.blob('data.csv')"
   ]
  },
  {
   "cell_type": "code",
   "execution_count": 64,
   "metadata": {},
   "outputs": [],
   "source": [
    "output_blob.upload_from_filename('data.csv')"
   ]
  },
  {
   "cell_type": "markdown",
   "metadata": {},
   "source": [
    "# Finish"
   ]
  }
 ],
 "metadata": {
  "environment": {
   "name": "tf2-2-3-gpu.2-3.m59",
   "type": "gcloud",
   "uri": "gcr.io/deeplearning-platform-release/tf2-2-3-gpu.2-3:m59"
  },
  "kernelspec": {
   "display_name": "Python 3",
   "language": "python",
   "name": "python3"
  },
  "language_info": {
   "codemirror_mode": {
    "name": "ipython",
    "version": 3
   },
   "file_extension": ".py",
   "mimetype": "text/x-python",
   "name": "python",
   "nbconvert_exporter": "python",
   "pygments_lexer": "ipython3",
   "version": "3.7.8"
  }
 },
 "nbformat": 4,
 "nbformat_minor": 4
}
